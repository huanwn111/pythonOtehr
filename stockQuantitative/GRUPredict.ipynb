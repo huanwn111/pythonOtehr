{
 "cells": [
  {
   "cell_type": "markdown",
   "id": "6b6fa794",
   "metadata": {},
   "source": [
    "# 金融预测1 - GRU单一模型"
   ]
  },
  {
   "cell_type": "code",
   "execution_count": 316,
   "id": "bb82d228",
   "metadata": {},
   "outputs": [],
   "source": [
    "import torch\n",
    "import numpy as np\n",
    "import pandas as pd\n",
    "import matplotlib.pyplot as plt\n",
    "from sklearn.preprocessing import StandardScaler\n",
    "from sklearn.model_selection import train_test_split\n",
    "import copy\n",
    "plt.rcParams['font.sans-serif']=['SimHei']#画图显示中文字"
   ]
  },
  {
   "cell_type": "markdown",
   "id": "21967884",
   "metadata": {},
   "source": [
    "# 1、处理数据"
   ]
  },
  {
   "cell_type": "code",
   "execution_count": 303,
   "id": "623d1f56",
   "metadata": {},
   "outputs": [
    {
     "data": {
      "text/html": [
       "<div>\n",
       "<style scoped>\n",
       "    .dataframe tbody tr th:only-of-type {\n",
       "        vertical-align: middle;\n",
       "    }\n",
       "\n",
       "    .dataframe tbody tr th {\n",
       "        vertical-align: top;\n",
       "    }\n",
       "\n",
       "    .dataframe thead th {\n",
       "        text-align: right;\n",
       "    }\n",
       "</style>\n",
       "<table border=\"1\" class=\"dataframe\">\n",
       "  <thead>\n",
       "    <tr style=\"text-align: right;\">\n",
       "      <th></th>\n",
       "      <th>code</th>\n",
       "      <th>date</th>\n",
       "      <th>中短端利率_2Ygk_std5_raw</th>\n",
       "      <th>中短端利率_2Ygk_std10_raw</th>\n",
       "      <th>中短端利率_2Ygk_std20_raw</th>\n",
       "      <th>中短端利率_5Ygk_std5_raw</th>\n",
       "      <th>中短端利率_5Ygk_std10_raw</th>\n",
       "      <th>中短端利率_5Ygk_std20_raw</th>\n",
       "      <th>中短端利率_2Ygz_std5_raw</th>\n",
       "      <th>中短端利率_2Ygz_std10_raw</th>\n",
       "      <th>...</th>\n",
       "      <th>中短端利率_5Ygk_percentb10_histquantile1Y</th>\n",
       "      <th>中短端利率_5Ygk_percentb10_histquantile3Y</th>\n",
       "      <th>中短端利率_5Ygk_percentb10_histquantile5Y</th>\n",
       "      <th>中短端利率_5Ygk_width20_histquantile1Y</th>\n",
       "      <th>中短端利率_5Ygk_width20_histquantile3Y</th>\n",
       "      <th>中短端利率_5Ygk_width20_histquantile5Y</th>\n",
       "      <th>中短端利率_5Ygk_percentb20_histquantile1Y</th>\n",
       "      <th>中短端利率_5Ygk_percentb20_histquantile3Y</th>\n",
       "      <th>中短端利率_5Ygk_percentb20_histquantile5Y</th>\n",
       "      <th>y</th>\n",
       "    </tr>\n",
       "  </thead>\n",
       "  <tbody>\n",
       "    <tr>\n",
       "      <th>0</th>\n",
       "      <td>code</td>\n",
       "      <td>2016-01-06</td>\n",
       "      <td>2.247361</td>\n",
       "      <td>3.533670</td>\n",
       "      <td>3.467743</td>\n",
       "      <td>3.335284</td>\n",
       "      <td>2.989162</td>\n",
       "      <td>3.394744</td>\n",
       "      <td>1.603085</td>\n",
       "      <td>1.876949</td>\n",
       "      <td>...</td>\n",
       "      <td>80.0</td>\n",
       "      <td>70.266667</td>\n",
       "      <td>64.56</td>\n",
       "      <td>92.0</td>\n",
       "      <td>91.200000</td>\n",
       "      <td>92.16</td>\n",
       "      <td>60.8</td>\n",
       "      <td>51.600000</td>\n",
       "      <td>43.36</td>\n",
       "      <td>-16.97</td>\n",
       "    </tr>\n",
       "    <tr>\n",
       "      <th>1</th>\n",
       "      <td>code</td>\n",
       "      <td>2016-01-07</td>\n",
       "      <td>3.034678</td>\n",
       "      <td>3.495714</td>\n",
       "      <td>3.452480</td>\n",
       "      <td>3.943536</td>\n",
       "      <td>3.117450</td>\n",
       "      <td>3.394981</td>\n",
       "      <td>2.085253</td>\n",
       "      <td>1.941460</td>\n",
       "      <td>...</td>\n",
       "      <td>63.2</td>\n",
       "      <td>57.600000</td>\n",
       "      <td>52.16</td>\n",
       "      <td>90.0</td>\n",
       "      <td>89.333333</td>\n",
       "      <td>90.80</td>\n",
       "      <td>55.6</td>\n",
       "      <td>47.466667</td>\n",
       "      <td>39.20</td>\n",
       "      <td>-12.34</td>\n",
       "    </tr>\n",
       "    <tr>\n",
       "      <th>2</th>\n",
       "      <td>code</td>\n",
       "      <td>2016-01-08</td>\n",
       "      <td>3.584543</td>\n",
       "      <td>3.514974</td>\n",
       "      <td>3.448637</td>\n",
       "      <td>5.105828</td>\n",
       "      <td>3.595523</td>\n",
       "      <td>3.552630</td>\n",
       "      <td>2.433886</td>\n",
       "      <td>1.925864</td>\n",
       "      <td>...</td>\n",
       "      <td>34.4</td>\n",
       "      <td>26.933333</td>\n",
       "      <td>22.16</td>\n",
       "      <td>88.8</td>\n",
       "      <td>87.733333</td>\n",
       "      <td>89.44</td>\n",
       "      <td>39.6</td>\n",
       "      <td>30.666667</td>\n",
       "      <td>24.16</td>\n",
       "      <td>-8.47</td>\n",
       "    </tr>\n",
       "    <tr>\n",
       "      <th>3</th>\n",
       "      <td>code</td>\n",
       "      <td>2016-01-11</td>\n",
       "      <td>3.363892</td>\n",
       "      <td>3.479087</td>\n",
       "      <td>3.394692</td>\n",
       "      <td>4.027828</td>\n",
       "      <td>3.701023</td>\n",
       "      <td>3.583271</td>\n",
       "      <td>2.097026</td>\n",
       "      <td>1.934485</td>\n",
       "      <td>...</td>\n",
       "      <td>18.4</td>\n",
       "      <td>16.533333</td>\n",
       "      <td>13.92</td>\n",
       "      <td>87.6</td>\n",
       "      <td>87.066667</td>\n",
       "      <td>88.96</td>\n",
       "      <td>28.4</td>\n",
       "      <td>22.933333</td>\n",
       "      <td>18.24</td>\n",
       "      <td>-5.51</td>\n",
       "    </tr>\n",
       "    <tr>\n",
       "      <th>4</th>\n",
       "      <td>code</td>\n",
       "      <td>2016-01-12</td>\n",
       "      <td>2.118945</td>\n",
       "      <td>3.437829</td>\n",
       "      <td>3.427486</td>\n",
       "      <td>2.305107</td>\n",
       "      <td>4.309655</td>\n",
       "      <td>3.762095</td>\n",
       "      <td>1.412261</td>\n",
       "      <td>2.182807</td>\n",
       "      <td>...</td>\n",
       "      <td>5.6</td>\n",
       "      <td>5.866667</td>\n",
       "      <td>5.28</td>\n",
       "      <td>86.8</td>\n",
       "      <td>86.666667</td>\n",
       "      <td>88.64</td>\n",
       "      <td>8.4</td>\n",
       "      <td>7.733333</td>\n",
       "      <td>6.80</td>\n",
       "      <td>-0.72</td>\n",
       "    </tr>\n",
       "  </tbody>\n",
       "</table>\n",
       "<p>5 rows × 1006 columns</p>\n",
       "</div>"
      ],
      "text/plain": [
       "   code        date  中短端利率_2Ygk_std5_raw  中短端利率_2Ygk_std10_raw   \n",
       "0  code  2016-01-06             2.247361              3.533670  \\\n",
       "1  code  2016-01-07             3.034678              3.495714   \n",
       "2  code  2016-01-08             3.584543              3.514974   \n",
       "3  code  2016-01-11             3.363892              3.479087   \n",
       "4  code  2016-01-12             2.118945              3.437829   \n",
       "\n",
       "   中短端利率_2Ygk_std20_raw  中短端利率_5Ygk_std5_raw  中短端利率_5Ygk_std10_raw   \n",
       "0              3.467743             3.335284              2.989162  \\\n",
       "1              3.452480             3.943536              3.117450   \n",
       "2              3.448637             5.105828              3.595523   \n",
       "3              3.394692             4.027828              3.701023   \n",
       "4              3.427486             2.305107              4.309655   \n",
       "\n",
       "   中短端利率_5Ygk_std20_raw  中短端利率_2Ygz_std5_raw  中短端利率_2Ygz_std10_raw  ...   \n",
       "0              3.394744             1.603085              1.876949  ...  \\\n",
       "1              3.394981             2.085253              1.941460  ...   \n",
       "2              3.552630             2.433886              1.925864  ...   \n",
       "3              3.583271             2.097026              1.934485  ...   \n",
       "4              3.762095             1.412261              2.182807  ...   \n",
       "\n",
       "   中短端利率_5Ygk_percentb10_histquantile1Y  中短端利率_5Ygk_percentb10_histquantile3Y   \n",
       "0                                  80.0                             70.266667  \\\n",
       "1                                  63.2                             57.600000   \n",
       "2                                  34.4                             26.933333   \n",
       "3                                  18.4                             16.533333   \n",
       "4                                   5.6                              5.866667   \n",
       "\n",
       "   中短端利率_5Ygk_percentb10_histquantile5Y  中短端利率_5Ygk_width20_histquantile1Y   \n",
       "0                                 64.56                               92.0  \\\n",
       "1                                 52.16                               90.0   \n",
       "2                                 22.16                               88.8   \n",
       "3                                 13.92                               87.6   \n",
       "4                                  5.28                               86.8   \n",
       "\n",
       "   中短端利率_5Ygk_width20_histquantile3Y  中短端利率_5Ygk_width20_histquantile5Y   \n",
       "0                          91.200000                              92.16  \\\n",
       "1                          89.333333                              90.80   \n",
       "2                          87.733333                              89.44   \n",
       "3                          87.066667                              88.96   \n",
       "4                          86.666667                              88.64   \n",
       "\n",
       "   中短端利率_5Ygk_percentb20_histquantile1Y  中短端利率_5Ygk_percentb20_histquantile3Y   \n",
       "0                                  60.8                             51.600000  \\\n",
       "1                                  55.6                             47.466667   \n",
       "2                                  39.6                             30.666667   \n",
       "3                                  28.4                             22.933333   \n",
       "4                                   8.4                              7.733333   \n",
       "\n",
       "   中短端利率_5Ygk_percentb20_histquantile5Y      y  \n",
       "0                                 43.36 -16.97  \n",
       "1                                 39.20 -12.34  \n",
       "2                                 24.16  -8.47  \n",
       "3                                 18.24  -5.51  \n",
       "4                                  6.80  -0.72  \n",
       "\n",
       "[5 rows x 1006 columns]"
      ]
     },
     "execution_count": 303,
     "metadata": {},
     "output_type": "execute_result"
    }
   ],
   "source": [
    "#读数据\n",
    "df = pd.read_csv(\"data//ch_data.csv\",encoding=\"utf\")\n",
    "df.head()"
   ]
  },
  {
   "cell_type": "code",
   "execution_count": 304,
   "id": "becc2741",
   "metadata": {},
   "outputs": [
    {
     "data": {
      "text/html": [
       "<div>\n",
       "<style scoped>\n",
       "    .dataframe tbody tr th:only-of-type {\n",
       "        vertical-align: middle;\n",
       "    }\n",
       "\n",
       "    .dataframe tbody tr th {\n",
       "        vertical-align: top;\n",
       "    }\n",
       "\n",
       "    .dataframe thead th {\n",
       "        text-align: right;\n",
       "    }\n",
       "</style>\n",
       "<table border=\"1\" class=\"dataframe\">\n",
       "  <thead>\n",
       "    <tr style=\"text-align: right;\">\n",
       "      <th></th>\n",
       "      <th>code</th>\n",
       "      <th>date</th>\n",
       "      <th>中短端利率_2Ygk_std5_raw</th>\n",
       "      <th>中短端利率_2Ygk_std10_raw</th>\n",
       "      <th>中短端利率_2Ygk_std20_raw</th>\n",
       "      <th>中短端利率_5Ygk_std5_raw</th>\n",
       "      <th>中短端利率_5Ygk_std10_raw</th>\n",
       "      <th>中短端利率_5Ygk_std20_raw</th>\n",
       "      <th>中短端利率_2Ygz_std5_raw</th>\n",
       "      <th>中短端利率_2Ygz_std10_raw</th>\n",
       "      <th>...</th>\n",
       "      <th>中短端利率_5Ygk_percentb10_histquantile1Y</th>\n",
       "      <th>中短端利率_5Ygk_percentb10_histquantile3Y</th>\n",
       "      <th>中短端利率_5Ygk_percentb10_histquantile5Y</th>\n",
       "      <th>中短端利率_5Ygk_width20_histquantile1Y</th>\n",
       "      <th>中短端利率_5Ygk_width20_histquantile3Y</th>\n",
       "      <th>中短端利率_5Ygk_width20_histquantile5Y</th>\n",
       "      <th>中短端利率_5Ygk_percentb20_histquantile1Y</th>\n",
       "      <th>中短端利率_5Ygk_percentb20_histquantile3Y</th>\n",
       "      <th>中短端利率_5Ygk_percentb20_histquantile5Y</th>\n",
       "      <th>y</th>\n",
       "    </tr>\n",
       "  </thead>\n",
       "  <tbody>\n",
       "    <tr>\n",
       "      <th>0</th>\n",
       "      <td>code</td>\n",
       "      <td>1452038400000000000</td>\n",
       "      <td>2.247361</td>\n",
       "      <td>3.533670</td>\n",
       "      <td>3.467743</td>\n",
       "      <td>3.335284</td>\n",
       "      <td>2.989162</td>\n",
       "      <td>3.394744</td>\n",
       "      <td>1.603085</td>\n",
       "      <td>1.876949</td>\n",
       "      <td>...</td>\n",
       "      <td>80.0</td>\n",
       "      <td>70.266667</td>\n",
       "      <td>64.56</td>\n",
       "      <td>92.0</td>\n",
       "      <td>91.200000</td>\n",
       "      <td>92.16</td>\n",
       "      <td>60.8</td>\n",
       "      <td>51.600000</td>\n",
       "      <td>43.36</td>\n",
       "      <td>-16.97</td>\n",
       "    </tr>\n",
       "    <tr>\n",
       "      <th>1</th>\n",
       "      <td>code</td>\n",
       "      <td>1452124800000000000</td>\n",
       "      <td>3.034678</td>\n",
       "      <td>3.495714</td>\n",
       "      <td>3.452480</td>\n",
       "      <td>3.943536</td>\n",
       "      <td>3.117450</td>\n",
       "      <td>3.394981</td>\n",
       "      <td>2.085253</td>\n",
       "      <td>1.941460</td>\n",
       "      <td>...</td>\n",
       "      <td>63.2</td>\n",
       "      <td>57.600000</td>\n",
       "      <td>52.16</td>\n",
       "      <td>90.0</td>\n",
       "      <td>89.333333</td>\n",
       "      <td>90.80</td>\n",
       "      <td>55.6</td>\n",
       "      <td>47.466667</td>\n",
       "      <td>39.20</td>\n",
       "      <td>-12.34</td>\n",
       "    </tr>\n",
       "    <tr>\n",
       "      <th>2</th>\n",
       "      <td>code</td>\n",
       "      <td>1452211200000000000</td>\n",
       "      <td>3.584543</td>\n",
       "      <td>3.514974</td>\n",
       "      <td>3.448637</td>\n",
       "      <td>5.105828</td>\n",
       "      <td>3.595523</td>\n",
       "      <td>3.552630</td>\n",
       "      <td>2.433886</td>\n",
       "      <td>1.925864</td>\n",
       "      <td>...</td>\n",
       "      <td>34.4</td>\n",
       "      <td>26.933333</td>\n",
       "      <td>22.16</td>\n",
       "      <td>88.8</td>\n",
       "      <td>87.733333</td>\n",
       "      <td>89.44</td>\n",
       "      <td>39.6</td>\n",
       "      <td>30.666667</td>\n",
       "      <td>24.16</td>\n",
       "      <td>-8.47</td>\n",
       "    </tr>\n",
       "    <tr>\n",
       "      <th>3</th>\n",
       "      <td>code</td>\n",
       "      <td>1452470400000000000</td>\n",
       "      <td>3.363892</td>\n",
       "      <td>3.479087</td>\n",
       "      <td>3.394692</td>\n",
       "      <td>4.027828</td>\n",
       "      <td>3.701023</td>\n",
       "      <td>3.583271</td>\n",
       "      <td>2.097026</td>\n",
       "      <td>1.934485</td>\n",
       "      <td>...</td>\n",
       "      <td>18.4</td>\n",
       "      <td>16.533333</td>\n",
       "      <td>13.92</td>\n",
       "      <td>87.6</td>\n",
       "      <td>87.066667</td>\n",
       "      <td>88.96</td>\n",
       "      <td>28.4</td>\n",
       "      <td>22.933333</td>\n",
       "      <td>18.24</td>\n",
       "      <td>-5.51</td>\n",
       "    </tr>\n",
       "    <tr>\n",
       "      <th>4</th>\n",
       "      <td>code</td>\n",
       "      <td>1452556800000000000</td>\n",
       "      <td>2.118945</td>\n",
       "      <td>3.437829</td>\n",
       "      <td>3.427486</td>\n",
       "      <td>2.305107</td>\n",
       "      <td>4.309655</td>\n",
       "      <td>3.762095</td>\n",
       "      <td>1.412261</td>\n",
       "      <td>2.182807</td>\n",
       "      <td>...</td>\n",
       "      <td>5.6</td>\n",
       "      <td>5.866667</td>\n",
       "      <td>5.28</td>\n",
       "      <td>86.8</td>\n",
       "      <td>86.666667</td>\n",
       "      <td>88.64</td>\n",
       "      <td>8.4</td>\n",
       "      <td>7.733333</td>\n",
       "      <td>6.80</td>\n",
       "      <td>-0.72</td>\n",
       "    </tr>\n",
       "  </tbody>\n",
       "</table>\n",
       "<p>5 rows × 1006 columns</p>\n",
       "</div>"
      ],
      "text/plain": [
       "   code                 date  中短端利率_2Ygk_std5_raw  中短端利率_2Ygk_std10_raw   \n",
       "0  code  1452038400000000000             2.247361              3.533670  \\\n",
       "1  code  1452124800000000000             3.034678              3.495714   \n",
       "2  code  1452211200000000000             3.584543              3.514974   \n",
       "3  code  1452470400000000000             3.363892              3.479087   \n",
       "4  code  1452556800000000000             2.118945              3.437829   \n",
       "\n",
       "   中短端利率_2Ygk_std20_raw  中短端利率_5Ygk_std5_raw  中短端利率_5Ygk_std10_raw   \n",
       "0              3.467743             3.335284              2.989162  \\\n",
       "1              3.452480             3.943536              3.117450   \n",
       "2              3.448637             5.105828              3.595523   \n",
       "3              3.394692             4.027828              3.701023   \n",
       "4              3.427486             2.305107              4.309655   \n",
       "\n",
       "   中短端利率_5Ygk_std20_raw  中短端利率_2Ygz_std5_raw  中短端利率_2Ygz_std10_raw  ...   \n",
       "0              3.394744             1.603085              1.876949  ...  \\\n",
       "1              3.394981             2.085253              1.941460  ...   \n",
       "2              3.552630             2.433886              1.925864  ...   \n",
       "3              3.583271             2.097026              1.934485  ...   \n",
       "4              3.762095             1.412261              2.182807  ...   \n",
       "\n",
       "   中短端利率_5Ygk_percentb10_histquantile1Y  中短端利率_5Ygk_percentb10_histquantile3Y   \n",
       "0                                  80.0                             70.266667  \\\n",
       "1                                  63.2                             57.600000   \n",
       "2                                  34.4                             26.933333   \n",
       "3                                  18.4                             16.533333   \n",
       "4                                   5.6                              5.866667   \n",
       "\n",
       "   中短端利率_5Ygk_percentb10_histquantile5Y  中短端利率_5Ygk_width20_histquantile1Y   \n",
       "0                                 64.56                               92.0  \\\n",
       "1                                 52.16                               90.0   \n",
       "2                                 22.16                               88.8   \n",
       "3                                 13.92                               87.6   \n",
       "4                                  5.28                               86.8   \n",
       "\n",
       "   中短端利率_5Ygk_width20_histquantile3Y  中短端利率_5Ygk_width20_histquantile5Y   \n",
       "0                          91.200000                              92.16  \\\n",
       "1                          89.333333                              90.80   \n",
       "2                          87.733333                              89.44   \n",
       "3                          87.066667                              88.96   \n",
       "4                          86.666667                              88.64   \n",
       "\n",
       "   中短端利率_5Ygk_percentb20_histquantile1Y  中短端利率_5Ygk_percentb20_histquantile3Y   \n",
       "0                                  60.8                             51.600000  \\\n",
       "1                                  55.6                             47.466667   \n",
       "2                                  39.6                             30.666667   \n",
       "3                                  28.4                             22.933333   \n",
       "4                                   8.4                              7.733333   \n",
       "\n",
       "   中短端利率_5Ygk_percentb20_histquantile5Y      y  \n",
       "0                                 43.36 -16.97  \n",
       "1                                 39.20 -12.34  \n",
       "2                                 24.16  -8.47  \n",
       "3                                 18.24  -5.51  \n",
       "4                                  6.80  -0.72  \n",
       "\n",
       "[5 rows x 1006 columns]"
      ]
     },
     "execution_count": 304,
     "metadata": {},
     "output_type": "execute_result"
    }
   ],
   "source": [
    "#时间数据转换为时间戳\n",
    "df[\"date\"] = df[\"date\"].apply(lambda x:pd.to_datetime(x).value)\n",
    "df.head()"
   ]
  },
  {
   "cell_type": "code",
   "execution_count": 305,
   "id": "2cb205ce",
   "metadata": {},
   "outputs": [
    {
     "name": "stdout",
     "output_type": "stream",
     "text": [
      "<class 'pandas.core.frame.DataFrame'>\n",
      "RangeIndex: 1785 entries, 0 to 1784\n",
      "Columns: 1006 entries, code to y\n",
      "dtypes: float64(1004), int64(1), object(1)\n",
      "memory usage: 13.7+ MB\n"
     ]
    }
   ],
   "source": [
    "df.info()"
   ]
  },
  {
   "cell_type": "code",
   "execution_count": 306,
   "id": "d63ba067",
   "metadata": {},
   "outputs": [
    {
     "data": {
      "text/plain": [
       "(1785, 1004)"
      ]
     },
     "execution_count": 306,
     "metadata": {},
     "output_type": "execute_result"
    }
   ],
   "source": [
    "#取特征列\n",
    "XAll = df.iloc[:,1:-1]\n",
    "XAll.head()\n",
    "XAll.shape"
   ]
  },
  {
   "cell_type": "code",
   "execution_count": 307,
   "id": "a7489a7f",
   "metadata": {},
   "outputs": [
    {
     "data": {
      "text/plain": [
       "(1785, 1)"
      ]
     },
     "execution_count": 307,
     "metadata": {},
     "output_type": "execute_result"
    }
   ],
   "source": [
    "#取结果列\n",
    "YAll = df.iloc[:,-1:]\n",
    "YAll.head()\n",
    "YAll.shape"
   ]
  },
  {
   "cell_type": "code",
   "execution_count": 308,
   "id": "4923c2d4",
   "metadata": {},
   "outputs": [
    {
     "name": "stdout",
     "output_type": "stream",
     "text": [
      "(1249, 1004)\n",
      "(1249, 1)\n",
      "(536, 1004)\n",
      "(536, 1)\n"
     ]
    }
   ],
   "source": [
    "#划分数据集\n",
    "X_train,X_test,y_train,y_test = train_test_split(\n",
    "    XAll,YAll,\n",
    "    test_size = 0.3,#30%用做测试集\n",
    "    random_state = 7\n",
    ")\n",
    "print(X_train.shape)\n",
    "print(y_train.shape)\n",
    "print(X_test.shape)\n",
    "print(y_test.shape)"
   ]
  },
  {
   "cell_type": "code",
   "execution_count": 309,
   "id": "99af6a87",
   "metadata": {},
   "outputs": [
    {
     "name": "stdout",
     "output_type": "stream",
     "text": [
      "(1249, 1004)\n",
      "(1249, 1)\n",
      "(536, 1004)\n",
      "(536, 1)\n"
     ]
    }
   ],
   "source": [
    "#归一化，标准化\n",
    "ssObj = StandardScaler()\n",
    "X_train_std = ssObj.fit_transform(X_train)\n",
    "X_test_std = ssObj.transform(X_test)#先拆分训练测试集，再标准化，保持真实性\n",
    "y_train_std = ssObj.fit_transform(y_train)\n",
    "y_test_std = ssObj.transform(y_test)\n",
    "print(X_train_std.shape)\n",
    "print(y_train_std.shape)\n",
    "print(X_test_std.shape)\n",
    "print(y_test_std.shape)\n",
    "# print(X_train_std)\n",
    "# print(y_train_std)"
   ]
  },
  {
   "cell_type": "code",
   "execution_count": 310,
   "id": "c8e6b378",
   "metadata": {},
   "outputs": [
    {
     "name": "stdout",
     "output_type": "stream",
     "text": [
      "(1249, 4, 251)\n",
      "(536, 4, 251)\n"
     ]
    }
   ],
   "source": [
    "#根据模型需要变形X\n",
    "time_steps = 4\n",
    "#参数：1、训练集数据条数，2、时间步，3、特征数input_size，行列静态二维变为按时间动态交错输入带时序属性的三维，特征数因此打乱自适应）\n",
    "X_train_reshape = X_train_std.reshape(X_train_std.shape[0],time_steps,-1)\n",
    "X_test_reshape = X_test_std.reshape(X_test_std.shape[0],time_steps,-1)\n",
    "print(X_train_reshape.shape)\n",
    "print(X_test_reshape.shape)\n",
    "# print(X_train_reshape)"
   ]
  },
  {
   "cell_type": "code",
   "execution_count": 311,
   "id": "aec55485",
   "metadata": {},
   "outputs": [
    {
     "name": "stdout",
     "output_type": "stream",
     "text": [
      "(1249, 1)\n",
      "(536, 1)\n"
     ]
    }
   ],
   "source": [
    "#根据模型需要变形Y\n",
    "y_train_reshape = y_train_std.reshape(y_train_std.shape[0],-1)#结果列拉平一列，一行数据对应一个结果\n",
    "y_test_reshape = y_test_std.reshape(y_test_std.shape[0],-1)\n",
    "print(y_train_reshape.shape)\n",
    "print(y_test_reshape.shape)"
   ]
  },
  {
   "cell_type": "code",
   "execution_count": 312,
   "id": "acc7e747",
   "metadata": {},
   "outputs": [
    {
     "name": "stdout",
     "output_type": "stream",
     "text": [
      "torch.Size([1249, 4, 251])\n",
      "torch.Size([1249, 1])\n",
      "torch.Size([536, 4, 251])\n",
      "torch.Size([536, 1])\n"
     ]
    }
   ],
   "source": [
    "#数据转换为模型需要的pytorch张量Tensor\n",
    "X_train = torch.Tensor(X_train_reshape)\n",
    "y_train = torch.Tensor(y_train_reshape)\n",
    "X_test = torch.Tensor(X_test_reshape)\n",
    "y_test = torch.Tensor(y_test_reshape)\n",
    "print(X_train.shape)\n",
    "print(y_train.shape)\n",
    "print(X_test.shape)\n",
    "print(y_test.shape)\n",
    "# X_train"
   ]
  },
  {
   "cell_type": "markdown",
   "id": "a3d16a75",
   "metadata": {},
   "source": [
    "# 2、模型处理"
   ]
  },
  {
   "cell_type": "code",
   "execution_count": 313,
   "id": "832df8ea",
   "metadata": {},
   "outputs": [],
   "source": [
    "#建模-GRU\n",
    "class GRUStock(torch.nn.Module):\n",
    "    #初始化\n",
    "    #参数：输入，隐层，输出,1层GRU\n",
    "    def __init__(self,input_size,hidden_size,output_size,num_layers):\n",
    "#         print(\"input_size:\",input_size)\n",
    "#         print(\"hidden_size:\",hidden_size)\n",
    "#         print(\"output_size:\",output_size)\n",
    "        \n",
    "        super(GRUStock,self).__init__()\n",
    "        #定义GRU模型，传入输入特征、隐藏层\n",
    "        self.gru = torch.nn.GRU(input_size,\n",
    "                                hidden_size,\n",
    "                                num_layers)\n",
    "        #定义全连接层，处理分类结果\n",
    "        self.fc = torch.nn.Linear(hidden_size,output_size)\n",
    "        \n",
    "    #前向传播做输入一输出的计算\n",
    "    def forward(self,x):\n",
    "#         print(\"x shape：\",x.shape)\n",
    "        out,_=self.gru(x)#调用模型处理xh，计算输出\n",
    "        rs_out = self.fc(out[:,-1,:])#处理分类结果\n",
    "#         print(rs_out.shape)\n",
    "        #返回结果\n",
    "        return rs_out"
   ]
  },
  {
   "cell_type": "code",
   "execution_count": 319,
   "id": "92e6e786",
   "metadata": {
    "scrolled": false
   },
   "outputs": [
    {
     "name": "stdout",
     "output_type": "stream",
     "text": [
      "Epoch0loss：1.010032057762146\n",
      "save best_model\n",
      "Epoch50loss：0.391811341047287\n",
      "save best_model\n",
      "Epoch100loss：0.04712596908211708\n",
      "save best_model\n",
      "Epoch150loss：0.004457511007785797\n",
      "save best_model\n",
      "Epoch200loss：0.004824649542570114\n",
      "Epoch250loss：0.001461818814277649\n",
      "save best_model\n",
      "Epoch300loss：0.0011770972050726414\n",
      "save best_model\n",
      "Epoch350loss：0.0009818535763770342\n",
      "save best_model\n",
      "Epoch400loss：0.0008341760258190334\n",
      "save best_model\n",
      "Epoch450loss：0.0008583276649005711\n",
      "Epoch500loss：0.0025506047531962395\n",
      "Epoch550loss：0.0011523468419909477\n",
      "Epoch600loss：0.000553594552911818\n",
      "save best_model\n",
      "Epoch650loss：0.0012746381107717752\n",
      "Epoch700loss：0.004747691564261913\n",
      "Epoch750loss：0.00047787080984562635\n",
      "save best_model\n"
     ]
    }
   ],
   "source": [
    "#设置超参数\n",
    "input_size=X_train.shape[2]\n",
    "hidden_size=64\n",
    "output_size=1\n",
    "num_layers =1\n",
    "num_epochs = 800#训练多少轮\n",
    "learning_rate = 0.001\n",
    "time_steps = 4#数据输入的时间步长切分\n",
    "    \n",
    "#实例化GRU\n",
    "gruModel = GRUStock(input_size,hidden_size,output_size,num_layers)\n",
    "#定义学习器\n",
    "optimizer = torch.optim.Adam(gruModel.parameters(),lr=learning_rate,weight_decay=0.001)\n",
    "#定义损失函数\n",
    "criterion = torch.nn.MSELoss()\n",
    "\n",
    "\n",
    "#用于记录每个epoch的loss值\n",
    "train_loss=[]\n",
    "\n",
    "#==训练==\n",
    "min_loss_val = 10#初始化最小loss\n",
    "best_model = None#定义初始最好模型\n",
    "for epoch in range(num_epochs):\n",
    "    optimizer.zero_grad()#梯度清零\n",
    "    #调用模型输入数据，计算，前向传播\n",
    "    output = gruModel(X_train)\n",
    "    loss = criterion(output,y_train.float())#计算损失\n",
    "    loss.backward()#反向传播\n",
    "    optimizer.step()#更新\n",
    "    \n",
    "    #存储loss值\n",
    "    train_loss.append(loss.item())\n",
    "    \n",
    "    #打印loss,50个epoch打印一次\n",
    "    if epoch % 50 == 0:\n",
    "        print(f\"Epoch{epoch}loss：{loss.item()}\")\n",
    "        #最小loss置为最好模型并保存    \n",
    "        if loss <= min_loss_val:\n",
    "            min_loss_val = loss\n",
    "            best_model = copy.deepcopy(gruModel)\n",
    "            print(\"save best_model\")\n",
    "            torch.save(best_model.state_dict(),'model//best_model.pth')\n",
    "gruModel = best_model\n",
    "    "
   ]
  },
  {
   "cell_type": "code",
   "execution_count": 320,
   "id": "977d8d58",
   "metadata": {},
   "outputs": [
    {
     "data": {
      "image/png": "[encoded data removed]",
      "text/plain": [
       "<Figure size 640x480 with 1 Axes>"
      ]
     },
     "metadata": {},
     "output_type": "display_data"
    }
   ],
   "source": [
    "#画图\n",
    "f1 = plt.figure()\n",
    "plt.plot(range(len(train_loss)),train_loss)\n",
    "plt.xlabel(\"epochs\")\n",
    "plt.ylabel(\"loss\")\n",
    "plt.savefig(\"loss.png\")\n",
    "plt.show()"
   ]
  },
  {
   "cell_type": "code",
   "execution_count": null,
   "id": "9439a31d",
   "metadata": {},
   "outputs": [],
   "source": [
    "#读模型\n",
    "# torch.load('best_model.pth')"
   ]
  },
  {
   "cell_type": "code",
   "execution_count": 322,
   "id": "8a593a02",
   "metadata": {},
   "outputs": [],
   "source": [
    "#预测\n",
    "y_pred = gruModel(X_test)\n",
    "y_pred_rs = y_pred.detach().numpy()#将张量分离并转换为NumPy数组\n",
    "y_test_rs = y_test.detach().numpy()"
   ]
  },
  {
   "cell_type": "code",
   "execution_count": 323,
   "id": "0495231b",
   "metadata": {},
   "outputs": [
    {
     "name": "stderr",
     "output_type": "stream",
     "text": [
      "C:\\Users\\A\\AppData\\Local\\Temp\\ipykernel_15192\\1913093716.py:8: UserWarning: Glyph 8722 (\\N{MINUS SIGN}) missing from current font.\n",
      "  plt.savefig(\"testGru.png\")\n",
      "C:\\Users\\A\\.conda\\envs\\pytorch\\lib\\site-packages\\IPython\\core\\pylabtools.py:152: UserWarning: Glyph 8722 (\\N{MINUS SIGN}) missing from current font.\n",
      "  fig.canvas.print_figure(bytes_io, **kw)\n"
     ]
    },
    {
     "data": {
      "image/png": "[encoded data removed]",
      "text/plain": [
       "<Figure size 640x480 with 1 Axes>"
      ]
     },
     "metadata": {},
     "output_type": "display_data"
    }
   ],
   "source": [
    "#画图\n",
    "f2=plt.figure()\n",
    "plt.plot(y_test_rs,color=\"blue\",label=\"真实值\")\n",
    "plt.plot(y_pred_rs,color=\"red\",label=\"预测值\")\n",
    "plt.legend()\n",
    "plt.xlabel(\"特征\")\n",
    "plt.ylabel(\"预测结果\")\n",
    "plt.savefig(\"testGru.png\")\n",
    "plt.show()"
   ]
  },
  {
   "cell_type": "code",
   "execution_count": 324,
   "id": "1bd32592",
   "metadata": {},
   "outputs": [
    {
     "name": "stdout",
     "output_type": "stream",
     "text": [
      "test_rmse: 0.76050615 \n",
      " test_mae: 0.58456796\n"
     ]
    }
   ],
   "source": [
    "#模型评估\n",
    "test_rmse = np.sqrt(np.mean(np.square(y_pred_rs,y_test_rs)))\n",
    "test_mae = np.mean(np.abs(y_pred_rs,y_test_rs))\n",
    "print(\"test_rmse:\",test_rmse,\"\\n\",\"test_mae:\",test_mae)"
   ]
  }
 ],
 "metadata": {
  "kernelspec": {
   "display_name": "pytorch",
   "language": "python",
   "name": "pytorch"
  },
  "language_info": {
   "codemirror_mode": {
    "name": "ipython",
    "version": 3
   },
   "file_extension": ".py",
   "mimetype": "text/x-python",
   "name": "python",
   "nbconvert_exporter": "python",
   "pygments_lexer": "ipython3",
   "version": "3.9.16"
  }
 },
 "nbformat": 4,
 "nbformat_minor": 5
}
